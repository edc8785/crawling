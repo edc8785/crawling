{
 "cells": [
  {
   "cell_type": "markdown",
   "metadata": {},
   "source": [
    "## Naver Data Lab 크롤링"
   ]
  },
  {
   "cell_type": "markdown",
   "metadata": {},
   "source": [
    "특정 기간에 특정 키워드에 대한 검색량을 조회!"
   ]
  },
  {
   "cell_type": "markdown",
   "metadata": {},
   "source": [
    "### Import package"
   ]
  },
  {
   "cell_type": "code",
   "execution_count": 11,
   "metadata": {},
   "outputs": [],
   "source": [
    "from selenium import webdriver\n",
    "import os\n",
    "import shutil\n",
    "import time"
   ]
  },
  {
   "cell_type": "code",
   "execution_count": 12,
   "metadata": {},
   "outputs": [],
   "source": [
    "## 2018년 4월 1일 ~ 2018년 9월 30일을 검색하는 네이버 데이터랩 url\n",
    "## 유동적인 코드를 위해선 날짜 역시 send_key를 통해 입력해야 하나 현재는 4월 1일부터 9월 30일의 데이터만 필요하기에 편의상 이를 고정\n",
    "\n",
    "url = \"https://datalab.naver.com/keyword/trendResult.naver?hashKey=N_5bf3f40dd6dbc289d9f4521929a745ba\""
   ]
  },
  {
   "cell_type": "markdown",
   "metadata": {},
   "source": [
    "### crawling function "
   ]
  },
  {
   "cell_type": "code",
   "execution_count": 13,
   "metadata": {},
   "outputs": [],
   "source": [
    "### 네이버 데이터랩에서 원하는 키워드의 검색량을 가져오는 함수\n",
    "\n",
    "def crawl(productName):  ## 검색하고자 하는 키워드를 input으로 받음\n",
    "\n",
    "    search1= driver.find_element_by_xpath('//*[@id=\"item_keyword1\"]')\n",
    "    search1.clear()\n",
    "    \n",
    "    search2= driver.find_element_by_xpath('//*[@id=\"item_sub_keyword1_1\"]')\n",
    "    search2.clear() ## 이전 과정에서 입력된 키워드 삭제\n",
    "    search2.send_keys(productName)  ## 새로운 키워드 입력\n",
    "\n",
    "    time.sleep(0.1)\n",
    "    \n",
    "    button = driver.find_element_by_css_selector('#content > div > div.keyword_trend > div.section_step > div.com_box_inner > form > fieldset > a > span')\n",
    "    button.click() ## 조회 버튼 클릭\n",
    "\n",
    "    time.sleep(0.1)\n",
    "\n",
    "    download = driver.find_element_by_css_selector('#content > div > div.keyword_trend > div.section_ca_board.w_space > div > div > div > div > div > div.graph_area > div.cont_file_down > a')\n",
    "    download.click() ## 다운로드 버튼 클릭\n",
    "\n",
    "    time.sleep(1)\n",
    "\n",
    "    shutil.copy2(\"C:/Users/edc87/Downloads/datalab.xlsx\", productName+\".xlsx\")  ## 다운로드된 폴더를 저장 폴더로 이동\n",
    "    time.sleep(1)\n",
    "    os.remove(\"C:/Users/edc87/Downloads/datalab.xlsx\")  ## 새로운 폴더로 복사했으므로 다운로드 폴더에 다운된 파일을 삭제\n",
    "    "
   ]
  },
  {
   "cell_type": "markdown",
   "metadata": {},
   "source": [
    "### crawling start "
   ]
  },
  {
   "cell_type": "code",
   "execution_count": 14,
   "metadata": {},
   "outputs": [],
   "source": [
    "## 검색하고자 하는 키워드 설정\n",
    "\n",
    "productName = [\"남성체크남방,남성체크셔츠\",\n",
    "               \"남성스프라이트남방,남성스프라이트셔츠\",\n",
    "               \"남성린넨남방,남성린넨셔츠\",\n",
    "               \"남성헨리넥남방,남성헨리넥셔츠\",\n",
    "               \"남성솔리드남방,남성솔리드셔츠\"] ## 검색할 키워드 설정"
   ]
  },
  {
   "cell_type": "code",
   "execution_count": 15,
   "metadata": {},
   "outputs": [
    {
     "name": "stdout",
     "output_type": "stream",
     "text": [
      "Index is  5 mission complete!\n"
     ]
    }
   ],
   "source": [
    "### 크롬 드라이버를 이용한 크롤링\n",
    "\n",
    "driver = webdriver.Chrome(\"chromedriver\")\n",
    "driver.get(url)\n",
    "\n",
    "## 여성은 item_gender_1 , 남성은 item_gender_2\n",
    "\n",
    "gender_button = driver.find_element_by_css_selector('#item_gender_1')\n",
    "gender_button.click()\n",
    "        \n",
    "## gender_button = driver.find_element_by_css_selector(\"#item_gender_2\")\n",
    "## gender_button.click()\n",
    "\n",
    "## 크롤을 원하는 키워드를 ProductName에 리스트 형태로 넣어서 함수 실행\n",
    "\n",
    "for i in range(0,len(productName)):\n",
    "    crawl(productName[i])\n",
    "\n",
    "print(\"Index is \",i+1, \"mission complete!\")"
   ]
  }
 ],
 "metadata": {
  "kernelspec": {
   "display_name": "Python 3",
   "language": "python",
   "name": "python3"
  },
  "language_info": {
   "codemirror_mode": {
    "name": "ipython",
    "version": 3
   },
   "file_extension": ".py",
   "mimetype": "text/x-python",
   "name": "python",
   "nbconvert_exporter": "python",
   "pygments_lexer": "ipython3",
   "version": "3.7.1"
  }
 },
 "nbformat": 4,
 "nbformat_minor": 2
}
